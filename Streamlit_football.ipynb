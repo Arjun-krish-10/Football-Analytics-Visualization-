{
  "nbformat": 4,
  "nbformat_minor": 0,
  "metadata": {
    "colab": {
      "name": "Streamlit football.ipynb",
      "provenance": [],
      "authorship_tag": "ABX9TyPpMuGhbF00QzXt/c+jPzCJ",
      "include_colab_link": true
    },
    "kernelspec": {
      "name": "python3",
      "display_name": "Python 3"
    },
    "language_info": {
      "name": "python"
    }
  },
  "cells": [
    {
      "cell_type": "markdown",
      "metadata": {
        "id": "view-in-github",
        "colab_type": "text"
      },
      "source": [
        "<a href=\"https://colab.research.google.com/github/Arjun-krish-10/Football-Analytics-Visualization-/blob/main/Streamlit_football.ipynb\" target=\"_parent\"><img src=\"https://colab.research.google.com/assets/colab-badge.svg\" alt=\"Open In Colab\"/></a>"
      ]
    },
    {
      "cell_type": "code",
      "metadata": {
        "colab": {
          "base_uri": "https://localhost:8080/"
        },
        "id": "oauwtDhBlTOq",
        "outputId": "5e784397-54b8-4fa8-851a-6fe080f3ba18"
      },
      "source": [
        "!pip install streamlit"
      ],
      "execution_count": null,
      "outputs": [
        {
          "output_type": "stream",
          "text": [
            "Requirement already satisfied: streamlit in /usr/local/lib/python3.7/dist-packages (0.81.1)\n",
            "Requirement already satisfied: packaging in /usr/local/lib/python3.7/dist-packages (from streamlit) (20.9)\n",
            "Requirement already satisfied: cachetools>=4.0 in /usr/local/lib/python3.7/dist-packages (from streamlit) (4.2.1)\n",
            "Requirement already satisfied: astor in /usr/local/lib/python3.7/dist-packages (from streamlit) (0.8.1)\n",
            "Requirement already satisfied: pandas>=0.21.0 in /usr/local/lib/python3.7/dist-packages (from streamlit) (1.1.5)\n",
            "Requirement already satisfied: gitpython in /usr/local/lib/python3.7/dist-packages (from streamlit) (3.1.14)\n",
            "Requirement already satisfied: pydeck>=0.1.dev5 in /usr/local/lib/python3.7/dist-packages (from streamlit) (0.6.2)\n",
            "Requirement already satisfied: click>=7.0 in /usr/local/lib/python3.7/dist-packages (from streamlit) (7.1.2)\n",
            "Requirement already satisfied: watchdog; platform_system != \"Darwin\" in /usr/local/lib/python3.7/dist-packages (from streamlit) (2.1.0)\n",
            "Requirement already satisfied: validators in /usr/local/lib/python3.7/dist-packages (from streamlit) (0.18.2)\n",
            "Requirement already satisfied: protobuf!=3.11,>=3.6.0 in /usr/local/lib/python3.7/dist-packages (from streamlit) (3.12.4)\n",
            "Requirement already satisfied: toml in /usr/local/lib/python3.7/dist-packages (from streamlit) (0.10.2)\n",
            "Requirement already satisfied: pyarrow; python_version < \"3.9\" in /usr/local/lib/python3.7/dist-packages (from streamlit) (3.0.0)\n",
            "Requirement already satisfied: blinker in /usr/local/lib/python3.7/dist-packages (from streamlit) (1.4)\n",
            "Requirement already satisfied: python-dateutil in /usr/local/lib/python3.7/dist-packages (from streamlit) (2.8.1)\n",
            "Requirement already satisfied: pillow>=6.2.0 in /usr/local/lib/python3.7/dist-packages (from streamlit) (7.1.2)\n",
            "Requirement already satisfied: base58 in /usr/local/lib/python3.7/dist-packages (from streamlit) (2.1.0)\n",
            "Requirement already satisfied: altair>=3.2.0 in /usr/local/lib/python3.7/dist-packages (from streamlit) (4.1.0)\n",
            "Requirement already satisfied: tzlocal in /usr/local/lib/python3.7/dist-packages (from streamlit) (1.5.1)\n",
            "Requirement already satisfied: requests in /usr/local/lib/python3.7/dist-packages (from streamlit) (2.23.0)\n",
            "Requirement already satisfied: tornado>=5.0 in /usr/local/lib/python3.7/dist-packages (from streamlit) (5.1.1)\n",
            "Requirement already satisfied: numpy in /usr/local/lib/python3.7/dist-packages (from streamlit) (1.19.5)\n",
            "Requirement already satisfied: pyparsing>=2.0.2 in /usr/local/lib/python3.7/dist-packages (from packaging->streamlit) (2.4.7)\n",
            "Requirement already satisfied: pytz>=2017.2 in /usr/local/lib/python3.7/dist-packages (from pandas>=0.21.0->streamlit) (2018.9)\n",
            "Requirement already satisfied: gitdb<5,>=4.0.1 in /usr/local/lib/python3.7/dist-packages (from gitpython->streamlit) (4.0.7)\n",
            "Requirement already satisfied: jinja2>=2.10.1 in /usr/local/lib/python3.7/dist-packages (from pydeck>=0.1.dev5->streamlit) (2.11.3)\n",
            "Requirement already satisfied: ipywidgets>=7.0.0 in /usr/local/lib/python3.7/dist-packages (from pydeck>=0.1.dev5->streamlit) (7.6.3)\n",
            "Requirement already satisfied: traitlets>=4.3.2 in /usr/local/lib/python3.7/dist-packages (from pydeck>=0.1.dev5->streamlit) (5.0.5)\n",
            "Requirement already satisfied: ipykernel>=5.1.2; python_version >= \"3.4\" in /usr/local/lib/python3.7/dist-packages (from pydeck>=0.1.dev5->streamlit) (5.5.4)\n",
            "Requirement already satisfied: six>=1.4.0 in /usr/local/lib/python3.7/dist-packages (from validators->streamlit) (1.15.0)\n",
            "Requirement already satisfied: decorator>=3.4.0 in /usr/local/lib/python3.7/dist-packages (from validators->streamlit) (4.4.2)\n",
            "Requirement already satisfied: setuptools in /usr/local/lib/python3.7/dist-packages (from protobuf!=3.11,>=3.6.0->streamlit) (56.0.0)\n",
            "Requirement already satisfied: jsonschema in /usr/local/lib/python3.7/dist-packages (from altair>=3.2.0->streamlit) (2.6.0)\n",
            "Requirement already satisfied: toolz in /usr/local/lib/python3.7/dist-packages (from altair>=3.2.0->streamlit) (0.11.1)\n",
            "Requirement already satisfied: entrypoints in /usr/local/lib/python3.7/dist-packages (from altair>=3.2.0->streamlit) (0.3)\n",
            "Requirement already satisfied: certifi>=2017.4.17 in /usr/local/lib/python3.7/dist-packages (from requests->streamlit) (2020.12.5)\n",
            "Requirement already satisfied: urllib3!=1.25.0,!=1.25.1,<1.26,>=1.21.1 in /usr/local/lib/python3.7/dist-packages (from requests->streamlit) (1.24.3)\n",
            "Requirement already satisfied: chardet<4,>=3.0.2 in /usr/local/lib/python3.7/dist-packages (from requests->streamlit) (3.0.4)\n",
            "Requirement already satisfied: idna<3,>=2.5 in /usr/local/lib/python3.7/dist-packages (from requests->streamlit) (2.10)\n",
            "Requirement already satisfied: smmap<5,>=3.0.1 in /usr/local/lib/python3.7/dist-packages (from gitdb<5,>=4.0.1->gitpython->streamlit) (4.0.0)\n",
            "Requirement already satisfied: MarkupSafe>=0.23 in /usr/local/lib/python3.7/dist-packages (from jinja2>=2.10.1->pydeck>=0.1.dev5->streamlit) (1.1.1)\n",
            "Requirement already satisfied: jupyterlab-widgets>=1.0.0; python_version >= \"3.6\" in /usr/local/lib/python3.7/dist-packages (from ipywidgets>=7.0.0->pydeck>=0.1.dev5->streamlit) (1.0.0)\n",
            "Requirement already satisfied: ipython>=4.0.0; python_version >= \"3.3\" in /usr/local/lib/python3.7/dist-packages (from ipywidgets>=7.0.0->pydeck>=0.1.dev5->streamlit) (5.5.0)\n",
            "Requirement already satisfied: widgetsnbextension~=3.5.0 in /usr/local/lib/python3.7/dist-packages (from ipywidgets>=7.0.0->pydeck>=0.1.dev5->streamlit) (3.5.1)\n",
            "Requirement already satisfied: nbformat>=4.2.0 in /usr/local/lib/python3.7/dist-packages (from ipywidgets>=7.0.0->pydeck>=0.1.dev5->streamlit) (5.1.3)\n",
            "Requirement already satisfied: ipython-genutils in /usr/local/lib/python3.7/dist-packages (from traitlets>=4.3.2->pydeck>=0.1.dev5->streamlit) (0.2.0)\n",
            "Requirement already satisfied: jupyter-client in /usr/local/lib/python3.7/dist-packages (from ipykernel>=5.1.2; python_version >= \"3.4\"->pydeck>=0.1.dev5->streamlit) (5.3.5)\n",
            "Requirement already satisfied: pygments in /usr/local/lib/python3.7/dist-packages (from ipython>=4.0.0; python_version >= \"3.3\"->ipywidgets>=7.0.0->pydeck>=0.1.dev5->streamlit) (2.6.1)\n",
            "Requirement already satisfied: pickleshare in /usr/local/lib/python3.7/dist-packages (from ipython>=4.0.0; python_version >= \"3.3\"->ipywidgets>=7.0.0->pydeck>=0.1.dev5->streamlit) (0.7.5)\n",
            "Requirement already satisfied: pexpect; sys_platform != \"win32\" in /usr/local/lib/python3.7/dist-packages (from ipython>=4.0.0; python_version >= \"3.3\"->ipywidgets>=7.0.0->pydeck>=0.1.dev5->streamlit) (4.8.0)\n",
            "Requirement already satisfied: simplegeneric>0.8 in /usr/local/lib/python3.7/dist-packages (from ipython>=4.0.0; python_version >= \"3.3\"->ipywidgets>=7.0.0->pydeck>=0.1.dev5->streamlit) (0.8.1)\n",
            "Requirement already satisfied: prompt-toolkit<2.0.0,>=1.0.4 in /usr/local/lib/python3.7/dist-packages (from ipython>=4.0.0; python_version >= \"3.3\"->ipywidgets>=7.0.0->pydeck>=0.1.dev5->streamlit) (1.0.18)\n",
            "Requirement already satisfied: notebook>=4.4.1 in /usr/local/lib/python3.7/dist-packages (from widgetsnbextension~=3.5.0->ipywidgets>=7.0.0->pydeck>=0.1.dev5->streamlit) (5.3.1)\n",
            "Requirement already satisfied: jupyter-core in /usr/local/lib/python3.7/dist-packages (from nbformat>=4.2.0->ipywidgets>=7.0.0->pydeck>=0.1.dev5->streamlit) (4.7.1)\n",
            "Requirement already satisfied: pyzmq>=13 in /usr/local/lib/python3.7/dist-packages (from jupyter-client->ipykernel>=5.1.2; python_version >= \"3.4\"->pydeck>=0.1.dev5->streamlit) (22.0.3)\n",
            "Requirement already satisfied: ptyprocess>=0.5 in /usr/local/lib/python3.7/dist-packages (from pexpect; sys_platform != \"win32\"->ipython>=4.0.0; python_version >= \"3.3\"->ipywidgets>=7.0.0->pydeck>=0.1.dev5->streamlit) (0.7.0)\n",
            "Requirement already satisfied: wcwidth in /usr/local/lib/python3.7/dist-packages (from prompt-toolkit<2.0.0,>=1.0.4->ipython>=4.0.0; python_version >= \"3.3\"->ipywidgets>=7.0.0->pydeck>=0.1.dev5->streamlit) (0.2.5)\n",
            "Requirement already satisfied: terminado>=0.8.1 in /usr/local/lib/python3.7/dist-packages (from notebook>=4.4.1->widgetsnbextension~=3.5.0->ipywidgets>=7.0.0->pydeck>=0.1.dev5->streamlit) (0.9.4)\n",
            "Requirement already satisfied: Send2Trash in /usr/local/lib/python3.7/dist-packages (from notebook>=4.4.1->widgetsnbextension~=3.5.0->ipywidgets>=7.0.0->pydeck>=0.1.dev5->streamlit) (1.5.0)\n",
            "Requirement already satisfied: nbconvert in /usr/local/lib/python3.7/dist-packages (from notebook>=4.4.1->widgetsnbextension~=3.5.0->ipywidgets>=7.0.0->pydeck>=0.1.dev5->streamlit) (5.6.1)\n",
            "Requirement already satisfied: testpath in /usr/local/lib/python3.7/dist-packages (from nbconvert->notebook>=4.4.1->widgetsnbextension~=3.5.0->ipywidgets>=7.0.0->pydeck>=0.1.dev5->streamlit) (0.4.4)\n",
            "Requirement already satisfied: bleach in /usr/local/lib/python3.7/dist-packages (from nbconvert->notebook>=4.4.1->widgetsnbextension~=3.5.0->ipywidgets>=7.0.0->pydeck>=0.1.dev5->streamlit) (3.3.0)\n",
            "Requirement already satisfied: pandocfilters>=1.4.1 in /usr/local/lib/python3.7/dist-packages (from nbconvert->notebook>=4.4.1->widgetsnbextension~=3.5.0->ipywidgets>=7.0.0->pydeck>=0.1.dev5->streamlit) (1.4.3)\n",
            "Requirement already satisfied: mistune<2,>=0.8.1 in /usr/local/lib/python3.7/dist-packages (from nbconvert->notebook>=4.4.1->widgetsnbextension~=3.5.0->ipywidgets>=7.0.0->pydeck>=0.1.dev5->streamlit) (0.8.4)\n",
            "Requirement already satisfied: defusedxml in /usr/local/lib/python3.7/dist-packages (from nbconvert->notebook>=4.4.1->widgetsnbextension~=3.5.0->ipywidgets>=7.0.0->pydeck>=0.1.dev5->streamlit) (0.7.1)\n",
            "Requirement already satisfied: webencodings in /usr/local/lib/python3.7/dist-packages (from bleach->nbconvert->notebook>=4.4.1->widgetsnbextension~=3.5.0->ipywidgets>=7.0.0->pydeck>=0.1.dev5->streamlit) (0.5.1)\n"
          ],
          "name": "stdout"
        }
      ]
    },
    {
      "cell_type": "code",
      "metadata": {
        "colab": {
          "base_uri": "https://localhost:8080/"
        },
        "id": "M3q4oVgglau-",
        "outputId": "1d28351d-f536-4860-8cc9-848dd5b0d9df"
      },
      "source": [
        "!pip install pyngrok==4.1.1"
      ],
      "execution_count": null,
      "outputs": [
        {
          "output_type": "stream",
          "text": [
            "Collecting pyngrok==4.1.1\n",
            "  Downloading https://files.pythonhosted.org/packages/e4/a9/de2e15c92eb3aa4a2646ce3a7542317eb69ac47f667578ce8bf916320847/pyngrok-4.1.1.tar.gz\n",
            "Requirement already satisfied: future in /usr/local/lib/python3.7/dist-packages (from pyngrok==4.1.1) (0.16.0)\n",
            "Requirement already satisfied: PyYAML in /usr/local/lib/python3.7/dist-packages (from pyngrok==4.1.1) (3.13)\n",
            "Building wheels for collected packages: pyngrok\n",
            "  Building wheel for pyngrok (setup.py) ... \u001b[?25l\u001b[?25hdone\n",
            "  Created wheel for pyngrok: filename=pyngrok-4.1.1-cp37-none-any.whl size=15971 sha256=8040b9bc60ca50bce2728d5d83fbae4809e7b1c0537d1e242ac55c5e2434fb30\n",
            "  Stored in directory: /root/.cache/pip/wheels/97/71/0d/1695f7c8815c0beb3b5d9b35d6eec9243c87e6070fbe3977fa\n",
            "Successfully built pyngrok\n",
            "Installing collected packages: pyngrok\n",
            "Successfully installed pyngrok-4.1.1\n"
          ],
          "name": "stdout"
        }
      ]
    },
    {
      "cell_type": "code",
      "metadata": {
        "colab": {
          "base_uri": "https://localhost:8080/"
        },
        "id": "XdB5rLBrlhiG",
        "outputId": "cd88c1bf-1bb2-496e-fa48-832dc2da6c83"
      },
      "source": [
        "pip install statsbombpy"
      ],
      "execution_count": null,
      "outputs": [
        {
          "output_type": "stream",
          "text": [
            "Collecting statsbombpy\n",
            "  Downloading https://files.pythonhosted.org/packages/9d/32/e8c5edc86b919d23d91966548d2a86c9c5019d50a68961c89fd473637d54/statsbombpy-1.0-py3-none-any.whl\n",
            "Collecting nose2\n",
            "\u001b[?25l  Downloading https://files.pythonhosted.org/packages/95/cf/ea7c3991fbb76f55bc1110e0356ef8a29a8ca546e5899a529018c6715c03/nose2-0.10.0-py2.py3-none-any.whl (141kB)\n",
            "\u001b[K     |████████████████████████████████| 143kB 6.8MB/s \n",
            "\u001b[?25hRequirement already satisfied: pandas in /usr/local/lib/python3.7/dist-packages (from statsbombpy) (1.1.5)\n",
            "Collecting cashier\n",
            "  Downloading https://files.pythonhosted.org/packages/81/d5/27c0c7b4d45a5da578fca37154386f2c55f3a671e441c10f6d8be79a3b5d/cashier-1.3.zip\n",
            "Requirement already satisfied: inflect in /usr/local/lib/python3.7/dist-packages (from statsbombpy) (2.1.0)\n",
            "Collecting requests-cache\n",
            "  Downloading https://files.pythonhosted.org/packages/3c/b7/ece6951b3ca140c3ff403d4e2aaecd796ccdf3b004c3bfd5a9787d384f1f/requests_cache-0.6.3-py2.py3-none-any.whl\n",
            "Requirement already satisfied: requests in /usr/local/lib/python3.7/dist-packages (from statsbombpy) (2.23.0)\n",
            "Requirement already satisfied: six>=1.7 in /usr/local/lib/python3.7/dist-packages (from nose2->statsbombpy) (1.15.0)\n",
            "Collecting coverage>=4.4.1\n",
            "\u001b[?25l  Downloading https://files.pythonhosted.org/packages/16/e0/fc9f7bd9b84e6b41d0aad1a113e36714aac0c0a9b307aca5f9af443bc50f/coverage-5.5-cp37-cp37m-manylinux2010_x86_64.whl (242kB)\n",
            "\u001b[K     |████████████████████████████████| 245kB 10.5MB/s \n",
            "\u001b[?25hRequirement already satisfied: python-dateutil>=2.7.3 in /usr/local/lib/python3.7/dist-packages (from pandas->statsbombpy) (2.8.1)\n",
            "Requirement already satisfied: pytz>=2017.2 in /usr/local/lib/python3.7/dist-packages (from pandas->statsbombpy) (2018.9)\n",
            "Requirement already satisfied: numpy>=1.15.4 in /usr/local/lib/python3.7/dist-packages (from pandas->statsbombpy) (1.19.5)\n",
            "Requirement already satisfied: itsdangerous in /usr/local/lib/python3.7/dist-packages (from requests-cache->statsbombpy) (1.1.0)\n",
            "Collecting url-normalize>=1.4\n",
            "  Downloading https://files.pythonhosted.org/packages/65/1c/6c6f408be78692fc850006a2b6dea37c2b8592892534e09996e401efc74b/url_normalize-1.4.3-py2.py3-none-any.whl\n",
            "Requirement already satisfied: idna<3,>=2.5 in /usr/local/lib/python3.7/dist-packages (from requests->statsbombpy) (2.10)\n",
            "Requirement already satisfied: certifi>=2017.4.17 in /usr/local/lib/python3.7/dist-packages (from requests->statsbombpy) (2020.12.5)\n",
            "Requirement already satisfied: chardet<4,>=3.0.2 in /usr/local/lib/python3.7/dist-packages (from requests->statsbombpy) (3.0.4)\n",
            "Requirement already satisfied: urllib3!=1.25.0,!=1.25.1,<1.26,>=1.21.1 in /usr/local/lib/python3.7/dist-packages (from requests->statsbombpy) (1.24.3)\n",
            "Building wheels for collected packages: cashier\n",
            "  Building wheel for cashier (setup.py) ... \u001b[?25l\u001b[?25hdone\n",
            "  Created wheel for cashier: filename=cashier-1.3-py2.py3-none-any.whl size=3233 sha256=4ba275f0d8d0a11682add3238f79a42f59d888322209a885c9e084130d56094f\n",
            "  Stored in directory: /root/.cache/pip/wheels/3e/69/ef/8607bf56b62fe4eed1a4811dbd6a9fd15dec82bcb42d737056\n",
            "Successfully built cashier\n",
            "\u001b[31mERROR: datascience 0.10.6 has requirement coverage==3.7.1, but you'll have coverage 5.5 which is incompatible.\u001b[0m\n",
            "\u001b[31mERROR: datascience 0.10.6 has requirement folium==0.2.1, but you'll have folium 0.8.3 which is incompatible.\u001b[0m\n",
            "\u001b[31mERROR: coveralls 0.5 has requirement coverage<3.999,>=3.6, but you'll have coverage 5.5 which is incompatible.\u001b[0m\n",
            "Installing collected packages: coverage, nose2, cashier, url-normalize, requests-cache, statsbombpy\n",
            "  Found existing installation: coverage 3.7.1\n",
            "    Uninstalling coverage-3.7.1:\n",
            "      Successfully uninstalled coverage-3.7.1\n",
            "Successfully installed cashier-1.3 coverage-5.5 nose2-0.10.0 requests-cache-0.6.3 statsbombpy-1.0 url-normalize-1.4.3\n"
          ],
          "name": "stdout"
        }
      ]
    },
    {
      "cell_type": "code",
      "metadata": {
        "colab": {
          "base_uri": "https://localhost:8080/"
        },
        "id": "LS9fYy6IlmcP",
        "outputId": "b4bea2a6-aca3-4d25-f2fe-ffcf24ff8937"
      },
      "source": [
        "!pip3 install mplsoccer"
      ],
      "execution_count": null,
      "outputs": [
        {
          "output_type": "stream",
          "text": [
            "Collecting mplsoccer\n",
            "\u001b[?25l  Downloading https://files.pythonhosted.org/packages/7c/fb/06c5b401e2f95cb480e032bc671e7df343ef9073f06ff58641b8a527d009/mplsoccer-1.0.2.tar.gz (56kB)\n",
            "\r\u001b[K     |█████▊                          | 10kB 15.9MB/s eta 0:00:01\r\u001b[K     |███████████▌                    | 20kB 22.6MB/s eta 0:00:01\r\u001b[K     |█████████████████▎              | 30kB 13.1MB/s eta 0:00:01\r\u001b[K     |███████████████████████         | 40kB 10.1MB/s eta 0:00:01\r\u001b[K     |████████████████████████████▉   | 51kB 8.2MB/s eta 0:00:01\r\u001b[K     |████████████████████████████████| 61kB 4.7MB/s \n",
            "\u001b[?25hRequirement already satisfied: matplotlib in /usr/local/lib/python3.7/dist-packages (from mplsoccer) (3.2.2)\n",
            "Requirement already satisfied: seaborn in /usr/local/lib/python3.7/dist-packages (from mplsoccer) (0.11.1)\n",
            "Requirement already satisfied: scipy in /usr/local/lib/python3.7/dist-packages (from mplsoccer) (1.4.1)\n",
            "Requirement already satisfied: pandas in /usr/local/lib/python3.7/dist-packages (from mplsoccer) (1.1.5)\n",
            "Requirement already satisfied: pillow in /usr/local/lib/python3.7/dist-packages (from mplsoccer) (7.1.2)\n",
            "Requirement already satisfied: numpy in /usr/local/lib/python3.7/dist-packages (from mplsoccer) (1.19.5)\n",
            "Requirement already satisfied: beautifulsoup4 in /usr/local/lib/python3.7/dist-packages (from mplsoccer) (4.6.3)\n",
            "Requirement already satisfied: cycler>=0.10 in /usr/local/lib/python3.7/dist-packages (from matplotlib->mplsoccer) (0.10.0)\n",
            "Requirement already satisfied: pyparsing!=2.0.4,!=2.1.2,!=2.1.6,>=2.0.1 in /usr/local/lib/python3.7/dist-packages (from matplotlib->mplsoccer) (2.4.7)\n",
            "Requirement already satisfied: python-dateutil>=2.1 in /usr/local/lib/python3.7/dist-packages (from matplotlib->mplsoccer) (2.8.1)\n",
            "Requirement already satisfied: kiwisolver>=1.0.1 in /usr/local/lib/python3.7/dist-packages (from matplotlib->mplsoccer) (1.3.1)\n",
            "Requirement already satisfied: pytz>=2017.2 in /usr/local/lib/python3.7/dist-packages (from pandas->mplsoccer) (2018.9)\n",
            "Requirement already satisfied: six in /usr/local/lib/python3.7/dist-packages (from cycler>=0.10->matplotlib->mplsoccer) (1.15.0)\n",
            "Building wheels for collected packages: mplsoccer\n",
            "  Building wheel for mplsoccer (setup.py) ... \u001b[?25l\u001b[?25hdone\n",
            "  Created wheel for mplsoccer: filename=mplsoccer-1.0.2-cp37-none-any.whl size=61856 sha256=e6807c34b9f66af5fd10f984948fb028e66c403ed748c0a1f30eda54dc274004\n",
            "  Stored in directory: /root/.cache/pip/wheels/30/88/9c/ca6e1c591ab0177712820c78af0df3269e633be7e4c23e3140\n",
            "Successfully built mplsoccer\n",
            "Installing collected packages: mplsoccer\n",
            "Successfully installed mplsoccer-1.0.2\n"
          ],
          "name": "stdout"
        }
      ]
    },
    {
      "cell_type": "code",
      "metadata": {
        "id": "n5yuuH_WlyeQ"
      },
      "source": [
        "from statsbombpy import sb\n",
        "import mplsoccer as mp"
      ],
      "execution_count": null,
      "outputs": []
    },
    {
      "cell_type": "code",
      "metadata": {
        "colab": {
          "base_uri": "https://localhost:8080/"
        },
        "id": "yxgcd_ZdyPrE",
        "outputId": "3b17b69d-970c-4b41-ce83-cdb9a5e97ad0"
      },
      "source": [
        "   sb.matches(competition_id=43,season_id=3)['competition_stage'].unique()"
      ],
      "execution_count": null,
      "outputs": [
        {
          "output_type": "stream",
          "text": [
            "credentials were not supplied. open data access only\n"
          ],
          "name": "stdout"
        },
        {
          "output_type": "execute_result",
          "data": {
            "text/plain": [
              "array(['Round of 16', 'Group Stage', 'Quarter-finals', 'Final',\n",
              "       'Semi-finals', '3rd Place Final'], dtype=object)"
            ]
          },
          "metadata": {
            "tags": []
          },
          "execution_count": 6
        }
      ]
    },
    {
      "cell_type": "code",
      "metadata": {
        "colab": {
          "base_uri": "https://localhost:8080/",
          "height": 330
        },
        "id": "_IdUzlA68nab",
        "outputId": "0432f3f9-8234-4872-a802-bedf12627b73"
      },
      "source": [
        "pitch = mp.VerticalPitch()\n",
        "pitch.draw()"
      ],
      "execution_count": null,
      "outputs": [
        {
          "output_type": "execute_result",
          "data": {
            "text/plain": [
              "(<Figure size 432x288 with 1 Axes>,\n",
              " <matplotlib.axes._subplots.AxesSubplot at 0x7f9b1aa76ed0>)"
            ]
          },
          "metadata": {
            "tags": []
          },
          "execution_count": 34
        },
        {
          "output_type": "display_data",
          "data": {
            "image/png": "[encoded data removed]",
            "text/plain": [
              "<Figure size 432x288 with 1 Axes>"
            ]
          },
          "metadata": {
            "tags": []
          }
        }
      ]
    },
    {
      "cell_type": "code",
      "metadata": {
        "id": "YUYrj4CVySiR"
      },
      "source": [
        "# def get_competitions():\n",
        "#     competitions = sb.competitions()\n",
        "#     comps = competitions['competition_name'].unique()\n",
        "#     gender = competitions['competition_gender'].unique()\n",
        "#     season = competitions['season_name'].unique()\n",
        "\n",
        "#     return comps,gender,seasons"
      ],
      "execution_count": null,
      "outputs": []
    },
    {
      "cell_type": "code",
      "metadata": {
        "colab": {
          "base_uri": "https://localhost:8080/"
        },
        "id": "bth7wb9_y-_a",
        "outputId": "06e4c808-7b37-4512-e610-3d0808f95b0a"
      },
      "source": [
        "%%writefile app.py\n",
        "\n",
        "import streamlit as st\n",
        "import pandas as pd\n",
        "from statsbombpy import sb\n",
        "import matplotlib.pyplot as plt\n",
        "from mplsoccer.pitch import Pitch,VerticalPitch\n",
        "import seaborn as sns\n",
        "\n",
        "\n",
        "st.set_option('deprecation.showPyplotGlobalUse', False)\n",
        "\n",
        "# @st.cache(allow_output_mutation = True)\n",
        "# def load_data():\n",
        "#     df_CL_17_18 = df_comp = sb.competitions()\n",
        "\n",
        "#     return comps,gender,seasons\n",
        "def get_match_id():\n",
        "\n",
        "    df_comp = sb.competitions()\n",
        "    # comps = get_competitions()\n",
        "    st.sidebar.title('Football analysis Selection')\n",
        "    gender = st.sidebar.selectbox(\"Select gender\",df_comp['competition_gender'].unique())\n",
        "    df_gender = df_comp[df_comp['competition_gender'] == gender]\n",
        "    if len(df_gender) > 0:\n",
        "        # st.dataframe(df_gender)\n",
        "        league = st.sidebar.selectbox(\"Select Competition\",df_gender['competition_name'].unique())\n",
        "        df_league = df_gender[df_gender['competition_name'] == league]\n",
        "        if len(df_league) > 0:\n",
        "            # st.dataframe(df_league)\n",
        "            season = st.sidebar.selectbox(\"Select Season\",df_league['season_name'].unique())\n",
        "            df_season = df_league[df_league['season_name'] == season]\n",
        "            if len(df_season) > 0:\n",
        "                # st.dataframe(df_season)\n",
        "                # comp_gender = st.sidebar.selectbox(\"Competition\",comps[comps['competition_gender'] == gender])\n",
        "                # specific_comp = comps[comps['competition_name' == comp]]\n",
        "                # season = st.sidebar.selectbox(\"Season\",specific_comp['season_name'].unique())\n",
        "                comp_id = df_season.iloc[0]['competition_id']\n",
        "                season_id = df_season.iloc[0]['season_id']\n",
        "\n",
        "                df_matches = sb.matches(competition_id = comp_id ,season_id =season_id )\n",
        "                if len(df_matches) > 0:\n",
        "                    # st.dataframe(df_matches)\n",
        "\n",
        "                    round = st.sidebar.selectbox('Choose the round you want to view',df_matches['competition_stage'].unique())\n",
        "                    df_round = df_matches[df_matches['competition_stage'] == round]\n",
        "                    if len(df_round) > 0:\n",
        "                        # st.dataframe(df_round[['match_id','home_team','away_team','competition_stage']])\n",
        "                        match = st.sidebar.selectbox('Select the match you want to analyze',[df_round.iloc[i]['home_team'] + '-' + df_round.iloc[i]['away_team'] for i in range(len(df_round))])\n",
        "                        teams = match.split('-')\n",
        "                        # st.write(teams)\n",
        "                        chosen_match = df_round[(df_round['home_team'] == teams[0]) & (df_round['away_team'] == teams[1])]\n",
        "                        st.dataframe(chosen_match)\n",
        "                        match_id = chosen_match.iloc[0]['match_id']\n",
        "                        \n",
        "                        return match_id\n",
        "\n",
        "def main():\n",
        "   \n",
        "    st.title(\"Football viz\")\n",
        "    st.header('Football analysis')\n",
        "    match_id = get_match_id()\n",
        "    st.write(match_id)\n",
        "    df_events = events = sb.events(match_id=match_id)\n",
        "    \n",
        "    # st.dataframe(df_events.head())\n",
        "    team = st.selectbox('Select the team you want to analyze',df_events['team'].unique())\n",
        "    task = st.selectbox('Select viz',['Pass','Shots','Player heat map'])\n",
        "    if task == 'Pass':\n",
        "        df_pass = df_events[(df_events['team'] == team) & (df_events['type'] == 'Pass')].sort_values('minute').reset_index()\n",
        "        df_pass['pass_outcome'] = df_pass['pass_outcome'].fillna('Success')\n",
        "        df_pass[['x','y']] = df_pass['location'].apply(pd.Series)\n",
        "        df_pass[['end_x','end_y']] = df_pass['pass_end_location'].apply(pd.Series)\n",
        "\n",
        "        player = st.selectbox('Enter the player name',df_pass['player'].unique())\n",
        "\n",
        "        fig, ax = plt.subplots(figsize=(13.5,8))\n",
        "        fig.set_facecolor('#22312b')\n",
        "        ax.patch.set_facecolor('#22312b')\n",
        "        pitch = Pitch(pitch_type='statsbomb', orientation='horizontal',\n",
        "                    pitch_color='#22312b', line_color='#c7d5cc', figsize=(16, 11),\n",
        "                    constrained_layout=True, tight_layout=True)\n",
        "        pitch.draw(ax =ax)\n",
        "        # plt.gca().invert_yaxis()\n",
        "        # st.pyplot(fig)\n",
        "\n",
        "\n",
        "        player_pass = df_pass[(df_pass['player'] == player) & (df_pass['minute'] < 91)].reset_index(drop=True)\n",
        "\n",
        "        for i in range(len(player_pass)):\n",
        "            if player_pass['pass_outcome'][i] == 'Success':\n",
        "                ax.plot((player_pass['x'][i],player_pass['end_x'][i]),(player_pass['y'][i],player_pass['end_y'][i]),color = 'green')\n",
        "                ax.scatter(player_pass['x'][i],player_pass['y'][i],color ='green')\n",
        "            if (player_pass['pass_outcome'][i] == 'Success') & (player_pass['pass_height'][i] == 'High Pass'):\n",
        "                ax.plot((player_pass['x'][i],player_pass['end_x'][i]),(player_pass['y'][i],player_pass['end_y'][i]),ls = '--',color = 'green')\n",
        "                ax.scatter(player_pass['x'][i],player_pass['y'][i],color ='green')\n",
        "            if player_pass['pass_outcome'][i] == 'Incomplete':\n",
        "                ax.plot((player_pass['x'][i],player_pass['end_x'][i]),(player_pass['y'][i],player_pass['end_y'][i]),color = 'red')\n",
        "                ax.scatter(player_pass['x'][i],player_pass['y'][i],color ='red')\n",
        "        st.pyplot(fig)\n",
        "\n",
        "    if task == 'Shots':\n",
        "        pass\n",
        "    if task == 'Player heat map':\n",
        "        df_team_events = df_events[(df_events['team'] == team)].sort_values('minute').reset_index(drop=True).dropna(subset=['player'])\n",
        "        player = st.selectbox('Select player you want',df_team_events['player'].unique())\n",
        "        df_pos = df_team_events[['player','location','minute','timestamp','team']].dropna(subset=['player','location']).reset_index(drop=True).sort_values('minute')\n",
        "        # st.dataframe(df_pos[df_pos['player'] == player])\n",
        "        # st.write(player)\n",
        "        df_player_pos = df_pos[df_pos['player'] == player]\n",
        "        df_player_pos[['x','y']] = df_player_pos['location'].apply(pd.Series)\n",
        "        pitch = VerticalPitch(pitch_color='#22312b', line_color='#c7d5cc', figsize=(7, 4),tight_layout =True)\n",
        "        fig,ax = pitch.draw()\n",
        "        fig.set_facecolor('#22312b')\n",
        "        sns.kdeplot(df_player_pos['x'],df_player_pos['y'],cmap='coolwarm',shade=True,shade_lowest=False,alpha = 0.7,thresh=0.4,levels=100,vertical=True,linewidth=0)\n",
        "        plt.xlim(0,80)\n",
        "        plt.ylim(0,120)\n",
        "        # fig.size = (8,5)\n",
        "        st.pyplot(fig)\n",
        "\n",
        "if __name__ == '__main__':\n",
        "    main()"
      ],
      "execution_count": null,
      "outputs": [
        {
          "output_type": "stream",
          "text": [
            "Overwriting app.py\n"
          ],
          "name": "stdout"
        }
      ]
    },
    {
      "cell_type": "code",
      "metadata": {
        "colab": {
          "base_uri": "https://localhost:8080/"
        },
        "id": "htOpN3-wzmwU",
        "outputId": "c8d30c09-f608-4483-919c-61d1dc233c39"
      },
      "source": [
        "!ngrok authtoken 1rmvOrqc2OvfRyCBtYSBaPw7roC_35VqwkJoQoowoWpmbWH31\n",
        "!nohup streamlit run app.py &\n",
        "from pyngrok import ngrok\n",
        "url = ngrok.connect(port=8501)"
      ],
      "execution_count": null,
      "outputs": [
        {
          "output_type": "stream",
          "text": [
            "Authtoken saved to configuration file: /root/.ngrok2/ngrok.yml\n",
            "nohup: appending output to 'nohup.out'\n"
          ],
          "name": "stdout"
        }
      ]
    },
    {
      "cell_type": "code",
      "metadata": {
        "colab": {
          "base_uri": "https://localhost:8080/",
          "height": 35
        },
        "id": "AN28n_uTzvRK",
        "outputId": "68ebb2d7-dfb9-4ce8-ad52-773bf5b1f0b3"
      },
      "source": [
        "url"
      ],
      "execution_count": null,
      "outputs": [
        {
          "output_type": "execute_result",
          "data": {
            "application/vnd.google.colaboratory.intrinsic+json": {
              "type": "string"
            },
            "text/plain": [
              "'http://52491f129ec7.ngrok.io'"
            ]
          },
          "metadata": {
            "tags": []
          },
          "execution_count": 11
        }
      ]
    }
  ]
}